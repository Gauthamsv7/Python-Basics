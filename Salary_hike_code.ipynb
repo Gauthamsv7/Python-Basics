{
  "nbformat": 4,
  "nbformat_minor": 0,
  "metadata": {
    "colab": {
      "provenance": [],
      "authorship_tag": "ABX9TyNICNcqdQ9Di+hymKFUVoFI",
      "include_colab_link": true
    },
    "kernelspec": {
      "name": "python3",
      "display_name": "Python 3"
    },
    "language_info": {
      "name": "python"
    }
  },
  "cells": [
    {
      "cell_type": "markdown",
      "metadata": {
        "id": "view-in-github",
        "colab_type": "text"
      },
      "source": [
        "<a href=\"https://colab.research.google.com/github/Gauthamsv7/Python-Basics/blob/main/Salary_hike_code.ipynb\" target=\"_parent\"><img src=\"https://colab.research.google.com/assets/colab-badge.svg\" alt=\"Open In Colab\"/></a>"
      ]
    },
    {
      "cell_type": "code",
      "execution_count": 21,
      "metadata": {
        "colab": {
          "base_uri": "https://localhost:8080/"
        },
        "id": "aqBKSgGWXz2A",
        "outputId": "04f7ef29-b5fc-46d5-e7b6-f262d38febe2"
      },
      "outputs": [
        {
          "output_type": "stream",
          "name": "stdout",
          "text": [
            "Please enter Present Salary : 625000\n",
            "Please enter basic Salary cuttings : 4000\n",
            "Please enter Hike starting range : 10\n",
            "Please enter Hike ending range : 45\n",
            "{'Hike%': '10', 'New_Sal': '687500.0', 'Diff_In_Salary': '62500.0', 'Sal_with_out_tax': '57291.666666666664', 'Sal_with_tax': '53291.666666666664'}\n",
            "{'Hike%': '11', 'New_Sal': '693750.0', 'Diff_In_Salary': '68750.0', 'Sal_with_out_tax': '57812.5', 'Sal_with_tax': '53812.5'}\n",
            "{'Hike%': '12', 'New_Sal': '700000.0', 'Diff_In_Salary': '75000.0', 'Sal_with_out_tax': '58333.333333333336', 'Sal_with_tax': '54333.333333333336'}\n",
            "{'Hike%': '13', 'New_Sal': '706250.0', 'Diff_In_Salary': '81250.0', 'Sal_with_out_tax': '58854.166666666664', 'Sal_with_tax': '54854.166666666664'}\n",
            "{'Hike%': '14', 'New_Sal': '712500.0', 'Diff_In_Salary': '87500.0', 'Sal_with_out_tax': '59375.0', 'Sal_with_tax': '55375.0'}\n",
            "{'Hike%': '15', 'New_Sal': '718750.0', 'Diff_In_Salary': '93750.0', 'Sal_with_out_tax': '59895.833333333336', 'Sal_with_tax': '55895.833333333336'}\n",
            "{'Hike%': '16', 'New_Sal': '725000.0', 'Diff_In_Salary': '100000.0', 'Sal_with_out_tax': '60416.666666666664', 'Sal_with_tax': '56416.666666666664'}\n",
            "{'Hike%': '17', 'New_Sal': '731250.0', 'Diff_In_Salary': '106250.0', 'Sal_with_out_tax': '60937.5', 'Sal_with_tax': '56937.5'}\n",
            "{'Hike%': '18', 'New_Sal': '737500.0', 'Diff_In_Salary': '112500.0', 'Sal_with_out_tax': '61458.333333333336', 'Sal_with_tax': '57458.333333333336'}\n",
            "{'Hike%': '19', 'New_Sal': '743750.0', 'Diff_In_Salary': '118750.0', 'Sal_with_out_tax': '61979.166666666664', 'Sal_with_tax': '57979.166666666664'}\n",
            "{'Hike%': '20', 'New_Sal': '750000.0', 'Diff_In_Salary': '125000.0', 'Sal_with_out_tax': '62500.0', 'Sal_with_tax': '58500.0'}\n",
            "{'Hike%': '21', 'New_Sal': '756250.0', 'Diff_In_Salary': '131250.0', 'Sal_with_out_tax': '63020.833333333336', 'Sal_with_tax': '59020.833333333336'}\n",
            "{'Hike%': '22', 'New_Sal': '762500.0', 'Diff_In_Salary': '137500.0', 'Sal_with_out_tax': '63541.666666666664', 'Sal_with_tax': '59541.666666666664'}\n",
            "{'Hike%': '23', 'New_Sal': '768750.0', 'Diff_In_Salary': '143750.0', 'Sal_with_out_tax': '64062.5', 'Sal_with_tax': '60062.5'}\n",
            "{'Hike%': '24', 'New_Sal': '775000.0', 'Diff_In_Salary': '150000.0', 'Sal_with_out_tax': '64583.333333333336', 'Sal_with_tax': '60583.333333333336'}\n",
            "{'Hike%': '25', 'New_Sal': '781250.0', 'Diff_In_Salary': '156250.0', 'Sal_with_out_tax': '65104.166666666664', 'Sal_with_tax': '61104.166666666664'}\n",
            "{'Hike%': '26', 'New_Sal': '787500.0', 'Diff_In_Salary': '162500.0', 'Sal_with_out_tax': '65625.0', 'Sal_with_tax': '61625.0'}\n",
            "{'Hike%': '27', 'New_Sal': '793750.0', 'Diff_In_Salary': '168750.0', 'Sal_with_out_tax': '66145.83333333333', 'Sal_with_tax': '62145.83333333333'}\n",
            "{'Hike%': '28', 'New_Sal': '800000.0', 'Diff_In_Salary': '175000.0', 'Sal_with_out_tax': '66666.66666666667', 'Sal_with_tax': '62666.66666666667'}\n",
            "{'Hike%': '29', 'New_Sal': '806250.0', 'Diff_In_Salary': '181250.0', 'Sal_with_out_tax': '67187.5', 'Sal_with_tax': '63187.5'}\n",
            "{'Hike%': '30', 'New_Sal': '812500.0', 'Diff_In_Salary': '187500.0', 'Sal_with_out_tax': '67708.33333333333', 'Sal_with_tax': '63708.33333333333'}\n",
            "{'Hike%': '31', 'New_Sal': '818750.0', 'Diff_In_Salary': '193750.0', 'Sal_with_out_tax': '68229.16666666667', 'Sal_with_tax': '64229.16666666667'}\n",
            "{'Hike%': '32', 'New_Sal': '825000.0', 'Diff_In_Salary': '200000.0', 'Sal_with_out_tax': '68750.0', 'Sal_with_tax': '64750.0'}\n",
            "{'Hike%': '33', 'New_Sal': '831250.0', 'Diff_In_Salary': '206250.0', 'Sal_with_out_tax': '69270.83333333333', 'Sal_with_tax': '65270.83333333333'}\n",
            "{'Hike%': '34', 'New_Sal': '837500.0', 'Diff_In_Salary': '212500.0', 'Sal_with_out_tax': '69791.66666666667', 'Sal_with_tax': '65791.66666666667'}\n",
            "{'Hike%': '35', 'New_Sal': '843750.0', 'Diff_In_Salary': '218750.0', 'Sal_with_out_tax': '70312.5', 'Sal_with_tax': '66312.5'}\n",
            "{'Hike%': '36', 'New_Sal': '850000.0', 'Diff_In_Salary': '225000.0', 'Sal_with_out_tax': '70833.33333333333', 'Sal_with_tax': '66833.33333333333'}\n",
            "{'Hike%': '37', 'New_Sal': '856250.0', 'Diff_In_Salary': '231250.0', 'Sal_with_out_tax': '71354.16666666667', 'Sal_with_tax': '67354.16666666667'}\n",
            "{'Hike%': '38', 'New_Sal': '862500.0', 'Diff_In_Salary': '237500.0', 'Sal_with_out_tax': '71875.0', 'Sal_with_tax': '67875.0'}\n",
            "{'Hike%': '39', 'New_Sal': '868750.0', 'Diff_In_Salary': '243750.0', 'Sal_with_out_tax': '72395.83333333333', 'Sal_with_tax': '68395.83333333333'}\n",
            "{'Hike%': '40', 'New_Sal': '875000.0', 'Diff_In_Salary': '250000.0', 'Sal_with_out_tax': '72916.66666666667', 'Sal_with_tax': '68916.66666666667'}\n",
            "{'Hike%': '41', 'New_Sal': '881250.0', 'Diff_In_Salary': '256250.0', 'Sal_with_out_tax': '73437.5', 'Sal_with_tax': '69437.5'}\n",
            "{'Hike%': '42', 'New_Sal': '887500.0', 'Diff_In_Salary': '262500.0', 'Sal_with_out_tax': '73958.33333333333', 'Sal_with_tax': '69958.33333333333'}\n",
            "{'Hike%': '43', 'New_Sal': '893750.0', 'Diff_In_Salary': '268750.0', 'Sal_with_out_tax': '74479.16666666667', 'Sal_with_tax': '70479.16666666667'}\n",
            "{'Hike%': '44', 'New_Sal': '900000.0', 'Diff_In_Salary': '275000.0', 'Sal_with_out_tax': '75000.0', 'Sal_with_tax': '71000.0'}\n",
            "{'Hike%': '45', 'New_Sal': '906250.0', 'Diff_In_Salary': '281250.0', 'Sal_with_out_tax': '75520.83333333333', 'Sal_with_tax': '71520.83333333333'}\n"
          ]
        }
      ],
      "source": [
        "class Salary:\n",
        "    pass\n",
        "\n",
        "salary_hike_calculator = Salary()\n",
        "old_salary = int(input(\"Please enter Present Salary : \"))\n",
        "basic_cuttings = int(input(\"Please enter basic Salary cuttings : \"))\n",
        "x = int(input(\"Please enter Hike starting range : \"))\n",
        "y = int(input(\"Please enter Hike ending range : \"))\n",
        "\n",
        "for i in range(x,y+1) :\n",
        "    New_Salary = old_salary + (old_salary * i / 100)\n",
        "    Diff_In_old_sal_n_new_sal = New_Salary - old_salary\n",
        "    Sal_in_hand_with_out_tax = New_Salary / 12\n",
        "    Sal_in_hand_with_tax = Sal_in_hand_with_out_tax - basic_cuttings\n",
        "    keys = \"Hike% New_Sal Diff_In_Salary Sal_with_out_tax Sal_with_tax \".split()\n",
        "    values = f\"{i} {New_Salary} {Diff_In_old_sal_n_new_sal} {Sal_in_hand_with_out_tax} {Sal_in_hand_with_tax}\".split()\n",
        "    for key,value in zip(keys,values):\n",
        "        setattr(salary_hike_calculator,key,value)\n",
        "    print(salary_hike_calculator.__dict__)"
      ]
    },
    {
      "cell_type": "code",
      "source": [],
      "metadata": {
        "id": "y9LKrJT8aU5F"
      },
      "execution_count": 18,
      "outputs": []
    }
  ]
}