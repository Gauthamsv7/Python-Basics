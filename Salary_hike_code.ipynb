{
  "nbformat": 4,
  "nbformat_minor": 0,
  "metadata": {
    "colab": {
      "provenance": [],
      "authorship_tag": "ABX9TyPEJdNhG7gAJiu531+wHdMT",
      "include_colab_link": true
    },
    "kernelspec": {
      "name": "python3",
      "display_name": "Python 3"
    },
    "language_info": {
      "name": "python"
    }
  },
  "cells": [
    {
      "cell_type": "markdown",
      "metadata": {
        "id": "view-in-github",
        "colab_type": "text"
      },
      "source": [
        "<a href=\"https://colab.research.google.com/github/Gauthamsv7/Python-Basics/blob/main/Salary_hike_code.ipynb\" target=\"_parent\"><img src=\"https://colab.research.google.com/assets/colab-badge.svg\" alt=\"Open In Colab\"/></a>"
      ]
    },
    {
      "cell_type": "markdown",
      "source": [
        "**Salary Hike Calculator**"
      ],
      "metadata": {
        "id": "9S7ktYCCHhFf"
      }
    },
    {
      "cell_type": "code",
      "execution_count": null,
      "metadata": {
        "id": "aqBKSgGWXz2A"
      },
      "outputs": [],
      "source": [
        "class Salary:\n",
        "    pass\n",
        "\n",
        "salary_hike_calculator = Salary()\n",
        "old_salary = int(input(\"Please enter Present Salary : \"))\n",
        "basic_cuttings = int(input(\"Please enter basic Salary cuttings : \"))\n",
        "x = int(input(\"Please enter Hike starting range : \"))\n",
        "y = int(input(\"Please enter Hike ending range : \"))\n",
        "\n",
        "for i in range(x,y+1) :\n",
        "    New_Salary = old_salary + (old_salary * i / 100)\n",
        "    Diff_In_old_sal_n_new_sal = New_Salary - old_salary\n",
        "    Sal_in_hand_with_out_tax = New_Salary / 12\n",
        "    Sal_in_hand_with_tax = Sal_in_hand_with_out_tax - basic_cuttings\n",
        "    old_salary_in_hand = Sal_in_hand_with_tax - ((old_salary / 12) - basic_cuttings)\n",
        "    keys = \"Hike% New_Sal Diff_In_Salary Sal_with_out_tax Sal_with_tax New_sal_and_Old_sal_diff \".split()\n",
        "    values = f\"{i} {New_Salary} {Diff_In_old_sal_n_new_sal} {Sal_in_hand_with_out_tax} {Sal_in_hand_with_tax} {old_salary_in_hand} \".split()\n",
        "    for key,value in zip(keys,values):\n",
        "        setattr(salary_hike_calculator,key,value)\n",
        "    print(salary_hike_calculator.__dict__)"
      ]
    },
    {
      "cell_type": "code",
      "source": [],
      "metadata": {
        "id": "y9LKrJT8aU5F"
      },
      "execution_count": null,
      "outputs": []
    }
  ]
}